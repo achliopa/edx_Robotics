{
 "cells": [
  {
   "cell_type": "markdown",
   "metadata": {
    "collapsed": true,
    "deletable": false,
    "editable": false,
    "nbgrader": {
     "grade": false,
     "locked": true,
     "solution": false
    }
   },
   "source": [
    "# Matrix Operation\n",
    "\n",
    "## In this section, you are required to complete three functions: Vector dot product, matrix dot product and matrix transpose operation. These section only involve some basic linear algebra knowledge, so we strongly suggest you write those functions by hand instead of using library."
   ]
  },
  {
   "cell_type": "markdown",
   "metadata": {
    "deletable": false,
    "editable": false,
    "nbgrader": {
     "grade": false,
     "locked": true,
     "solution": false
    }
   },
   "source": [
    "## Vector dot product:\n",
    "### a is a 1X3 vector and b is a 3X1 vector. Please fill in your solution below."
   ]
  },
  {
   "cell_type": "code",
   "execution_count": 80,
   "metadata": {
    "collapsed": true,
    "nbgrader": {
     "grade": false,
     "locked": false,
     "solution": false
    }
   },
   "outputs": [],
   "source": [
    "# Complete the function below\n",
    "def VectorDotProduct(a, b):\n",
    "    a1 = a[0]\n",
    "    a2 = a[1]\n",
    "    a3 = a[2]\n",
    "    b1 = b[0][0]\n",
    "    b2 = b[1][0]\n",
    "    b3 = b[2][0]\n",
    "    ###\n",
    "    vector_result = a1*b1+a2*b2+a3*b3\n",
    "    ###\n",
    "    return vector_result"
   ]
  },
  {
   "cell_type": "code",
   "execution_count": 81,
   "metadata": {},
   "outputs": [
    {
     "name": "stdout",
     "output_type": "stream",
     "text": [
      "14\n"
     ]
    }
   ],
   "source": [
    "a = [1,2,3]\n",
    "b = [[1],\n",
    "     [2],\n",
    "     [3]]\n",
    "vector_result = VectorDotProduct(a, b)\n",
    "print(vector_result)"
   ]
  },
  {
   "cell_type": "code",
   "execution_count": 82,
   "metadata": {
    "collapsed": true,
    "deletable": false,
    "editable": false,
    "nbgrader": {
     "grade": true,
     "grade_id": "Vector Dot Product",
     "locked": true,
     "points": "5",
     "solution": false
    }
   },
   "outputs": [],
   "source": [
    "###\n",
    "### AUTOGRADER TEST - DO NOT REMOVE\n",
    "###\n"
   ]
  },
  {
   "cell_type": "markdown",
   "metadata": {
    "deletable": false,
    "editable": false,
    "nbgrader": {
     "grade": false,
     "locked": true,
     "solution": false
    }
   },
   "source": [
    "## Matrix dot product:\n",
    "### a and b are both 3X3 matrix. Please fill in your solution below.\n",
    "### Hint: You can use the function: VectorDotProduct(a,b) at here."
   ]
  },
  {
   "cell_type": "code",
   "execution_count": 83,
   "metadata": {},
   "outputs": [],
   "source": [
    "# Complete the function below\n",
    "def MatrixDotProduct(a, b):\n",
    "    a_row_0 = a[0]\n",
    "    a_row_1 = a[1]\n",
    "    a_row_2 = a[2]\n",
    "    b_col_0 = [[b[i][0]] for i in range(3)]\n",
    "    b_col_1 = [[b[i][1]] for i in range(3)]\n",
    "    b_col_2 = [[b[i][2]] for i in range(3)]\n",
    "    ###\n",
    "    matrix_result = [[0,0,0],[0,0,0],[0,0,0]]\n",
    "    for i in range (3):\n",
    "        for j in range (3):\n",
    "            matrix_result[i][j] = VectorDotProduct(a[i], [[b[k][j]] for k in range(3)])\n",
    "    ###\n",
    "    return matrix_result"
   ]
  },
  {
   "cell_type": "code",
   "execution_count": 84,
   "metadata": {},
   "outputs": [
    {
     "name": "stdout",
     "output_type": "stream",
     "text": [
      "[[30, 36, 42], [66, 81, 96], [102, 126, 150]]\n"
     ]
    }
   ],
   "source": [
    "a = [[1,2,3],\n",
    "     [4,5,6],\n",
    "     [7,8,9]]\n",
    "b = [[1,2,3],\n",
    "     [4,5,6],\n",
    "     [7,8,9]]\n",
    "matrix_result = MatrixDotProduct(a, b)\n",
    "print(matrix_result)"
   ]
  },
  {
   "cell_type": "code",
   "execution_count": 85,
   "metadata": {
    "collapsed": true,
    "deletable": false,
    "editable": false,
    "nbgrader": {
     "grade": true,
     "grade_id": "Matrix Dot Product",
     "locked": true,
     "points": "5",
     "solution": false
    }
   },
   "outputs": [],
   "source": [
    "###\n",
    "### AUTOGRADER TEST - DO NOT REMOVE\n",
    "###\n"
   ]
  },
  {
   "cell_type": "markdown",
   "metadata": {
    "deletable": false,
    "editable": false,
    "nbgrader": {
     "grade": false,
     "locked": true,
     "solution": false
    }
   },
   "source": [
    "## Matrix transpose:\n",
    "### In this time, a is a 3X3 matrix. Please fill in your solution below."
   ]
  },
  {
   "cell_type": "code",
   "execution_count": 86,
   "metadata": {
    "collapsed": true
   },
   "outputs": [],
   "source": [
    "# Complete the function below\n",
    "def MatrixTranspose(a):\n",
    "    ###\n",
    "    matrix_result = [[0,0,0],[0,0,0],[0,0,0]]\n",
    "    for i in range(3):\n",
    "        for j in range(3):\n",
    "            matrix_result[i][j] = a[j][i]\n",
    "    ###\n",
    "    return matrix_result"
   ]
  },
  {
   "cell_type": "code",
   "execution_count": 87,
   "metadata": {},
   "outputs": [
    {
     "name": "stdout",
     "output_type": "stream",
     "text": [
      "[[1, 4, 7], [2, 5, 8], [3, 6, 9]]\n"
     ]
    }
   ],
   "source": [
    "a = [[1,2,3],\n",
    "     [4,5,6],\n",
    "     [7,8,9]]\n",
    "\n",
    "matrix_result = MatrixTranspose(a)\n",
    "print(matrix_result)"
   ]
  },
  {
   "cell_type": "code",
   "execution_count": 88,
   "metadata": {
    "collapsed": true,
    "deletable": false,
    "editable": false,
    "nbgrader": {
     "grade": true,
     "grade_id": "Martix Transpose",
     "locked": true,
     "points": "5",
     "solution": false
    }
   },
   "outputs": [],
   "source": [
    "###\n",
    "### AUTOGRADER TEST - DO NOT REMOVE\n",
    "###\n"
   ]
  },
  {
   "cell_type": "code",
   "execution_count": null,
   "metadata": {
    "collapsed": true
   },
   "outputs": [],
   "source": []
  }
 ],
 "metadata": {
  "celltoolbar": "Raw Cell Format",
  "kernelspec": {
   "display_name": "Python 3.5",
   "language": "python",
   "name": "python35"
  },
  "language_info": {
   "codemirror_mode": {
    "name": "ipython",
    "version": 3
   },
   "file_extension": ".py",
   "mimetype": "text/x-python",
   "name": "python",
   "nbconvert_exporter": "python",
   "pygments_lexer": "ipython3",
   "version": "3.5.2"
  }
 },
 "nbformat": 4,
 "nbformat_minor": 2
}
